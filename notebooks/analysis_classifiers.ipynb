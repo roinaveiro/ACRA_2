{
 "cells": [
  {
   "cell_type": "code",
   "execution_count": 1,
   "metadata": {
    "collapsed": true
   },
   "outputs": [],
   "source": [
    "import glob\n",
    "import numpy as np\n",
    "import re\n",
    "import pandas as pd\n",
    "import seaborn as sns\n",
    "import matplotlib.pyplot as plt\n",
    "from matplotlib.ticker import ScalarFormatter, FormatStrFormatter\n",
    "%matplotlib inline\n",
    "from matplotlib.font_manager import FontProperties\n",
    "#from plotnine import *"
   ]
  },
  {
   "cell_type": "code",
   "execution_count": 2,
   "metadata": {},
   "outputs": [
    {
     "name": "stderr",
     "output_type": "stream",
     "text": [
      "/home/roi/anaconda3/lib/python3.6/site-packages/ipykernel_launcher.py:16: FutureWarning: Sorting because non-concatenation axis is not aligned. A future version\n",
      "of pandas will change to not sort by default.\n",
      "\n",
      "To accept the future behavior, pass 'sort=False'.\n",
      "\n",
      "To retain the current behavior and silence the warning, pass 'sort=True'.\n",
      "\n",
      "  app.launch_new_instance()\n"
     ]
    }
   ],
   "source": [
    "#\n",
    "path = \"../results/exp_classifiers/*\"\n",
    "#path_to_save = \"../figs/tolerance.eps\"\n",
    "name = 'classifier'\n",
    "n_exp = 10\n",
    "names = glob.glob(path)\n",
    "for i in range(len(names)):\n",
    "    #\n",
    "    if i == 0:\n",
    "        #\n",
    "        final = pd.read_csv(names[i])\n",
    "        #\n",
    "    else:\n",
    "        #\n",
    "        curr = pd.read_csv(names[i])\n",
    "        final = pd.concat([final,curr])\n",
    "\n",
    "means = final.groupby(name).mean()\n",
    "devs = final.groupby(name).std() / np.sqrt(n_exp)"
   ]
  },
  {
   "cell_type": "code",
   "execution_count": 3,
   "metadata": {},
   "outputs": [
    {
     "data": {
      "text/html": [
       "<div>\n",
       "<style scoped>\n",
       "    .dataframe tbody tr th:only-of-type {\n",
       "        vertical-align: middle;\n",
       "    }\n",
       "\n",
       "    .dataframe tbody tr th {\n",
       "        vertical-align: top;\n",
       "    }\n",
       "\n",
       "    .dataframe thead th {\n",
       "        text-align: right;\n",
       "    }\n",
       "</style>\n",
       "<table border=\"1\" class=\"dataframe\">\n",
       "  <thead>\n",
       "    <tr style=\"text-align: right;\">\n",
       "      <th></th>\n",
       "      <th>acc_acra_att</th>\n",
       "      <th>acc_raw_att</th>\n",
       "      <th>acc_raw_clean</th>\n",
       "    </tr>\n",
       "    <tr>\n",
       "      <th>classifier</th>\n",
       "      <th></th>\n",
       "      <th></th>\n",
       "      <th></th>\n",
       "    </tr>\n",
       "  </thead>\n",
       "  <tbody>\n",
       "    <tr>\n",
       "      <td>lr</td>\n",
       "      <td>0.917137</td>\n",
       "      <td>0.680911</td>\n",
       "      <td>0.927983</td>\n",
       "    </tr>\n",
       "    <tr>\n",
       "      <td>nb</td>\n",
       "      <td>0.923881</td>\n",
       "      <td>0.773812</td>\n",
       "      <td>0.890554</td>\n",
       "    </tr>\n",
       "    <tr>\n",
       "      <td>nn</td>\n",
       "      <td>0.811497</td>\n",
       "      <td>0.763991</td>\n",
       "      <td>0.904772</td>\n",
       "    </tr>\n",
       "    <tr>\n",
       "      <td>rf</td>\n",
       "      <td>0.820390</td>\n",
       "      <td>0.663341</td>\n",
       "      <td>0.945987</td>\n",
       "    </tr>\n",
       "    <tr>\n",
       "      <td>svm</td>\n",
       "      <td>0.883297</td>\n",
       "      <td>0.693926</td>\n",
       "      <td>0.941866</td>\n",
       "    </tr>\n",
       "  </tbody>\n",
       "</table>\n",
       "</div>"
      ],
      "text/plain": [
       "            acc_acra_att  acc_raw_att  acc_raw_clean\n",
       "classifier                                          \n",
       "lr              0.917137     0.680911       0.927983\n",
       "nb              0.923881     0.773812       0.890554\n",
       "nn              0.811497     0.763991       0.904772\n",
       "rf              0.820390     0.663341       0.945987\n",
       "svm             0.883297     0.693926       0.941866"
      ]
     },
     "execution_count": 3,
     "metadata": {},
     "output_type": "execute_result"
    }
   ],
   "source": [
    "means"
   ]
  },
  {
   "cell_type": "code",
   "execution_count": 4,
   "metadata": {},
   "outputs": [
    {
     "data": {
      "text/html": [
       "<div>\n",
       "<style scoped>\n",
       "    .dataframe tbody tr th:only-of-type {\n",
       "        vertical-align: middle;\n",
       "    }\n",
       "\n",
       "    .dataframe tbody tr th {\n",
       "        vertical-align: top;\n",
       "    }\n",
       "\n",
       "    .dataframe thead th {\n",
       "        text-align: right;\n",
       "    }\n",
       "</style>\n",
       "<table border=\"1\" class=\"dataframe\">\n",
       "  <thead>\n",
       "    <tr style=\"text-align: right;\">\n",
       "      <th></th>\n",
       "      <th>acc_acra_att</th>\n",
       "      <th>acc_raw_att</th>\n",
       "      <th>acc_raw_clean</th>\n",
       "    </tr>\n",
       "    <tr>\n",
       "      <th>classifier</th>\n",
       "      <th></th>\n",
       "      <th></th>\n",
       "      <th></th>\n",
       "    </tr>\n",
       "  </thead>\n",
       "  <tbody>\n",
       "    <tr>\n",
       "      <td>lr</td>\n",
       "      <td>0.002889</td>\n",
       "      <td>0.008528</td>\n",
       "      <td>0.003627</td>\n",
       "    </tr>\n",
       "    <tr>\n",
       "      <td>nb</td>\n",
       "      <td>0.004461</td>\n",
       "      <td>0.025974</td>\n",
       "      <td>0.003323</td>\n",
       "    </tr>\n",
       "    <tr>\n",
       "      <td>nn</td>\n",
       "      <td>0.009832</td>\n",
       "      <td>0.006994</td>\n",
       "      <td>0.002989</td>\n",
       "    </tr>\n",
       "    <tr>\n",
       "      <td>rf</td>\n",
       "      <td>0.005486</td>\n",
       "      <td>0.005543</td>\n",
       "      <td>0.002386</td>\n",
       "    </tr>\n",
       "    <tr>\n",
       "      <td>svm</td>\n",
       "      <td>0.003997</td>\n",
       "      <td>0.007334</td>\n",
       "      <td>0.002623</td>\n",
       "    </tr>\n",
       "  </tbody>\n",
       "</table>\n",
       "</div>"
      ],
      "text/plain": [
       "            acc_acra_att  acc_raw_att  acc_raw_clean\n",
       "classifier                                          \n",
       "lr              0.002889     0.008528       0.003627\n",
       "nb              0.004461     0.025974       0.003323\n",
       "nn              0.009832     0.006994       0.002989\n",
       "rf              0.005486     0.005543       0.002386\n",
       "svm             0.003997     0.007334       0.002623"
      ]
     },
     "execution_count": 4,
     "metadata": {},
     "output_type": "execute_result"
    }
   ],
   "source": [
    "devs"
   ]
  },
  {
   "cell_type": "code",
   "execution_count": null,
   "metadata": {
    "collapsed": true
   },
   "outputs": [],
   "source": [
    "# path = \"../results/exp_comp_solutions/*\"\n",
    "#name = 'tolerance'\n",
    "n_exp = 10\n",
    "final = pd.read_csv(\"../results/exp_comp_solutions/exp1.csv\")\n",
    "\n",
    "means = final.mean()\n",
    "devs = final.std() / np.sqrt(n_exp)"
   ]
  }
 ],
 "metadata": {
  "kernelspec": {
   "display_name": "Python 3",
   "language": "python",
   "name": "python3"
  },
  "language_info": {
   "codemirror_mode": {
    "name": "ipython",
    "version": 3
   },
   "file_extension": ".py",
   "mimetype": "text/x-python",
   "name": "python",
   "nbconvert_exporter": "python",
   "pygments_lexer": "ipython3",
   "version": "3.6.8"
  }
 },
 "nbformat": 4,
 "nbformat_minor": 2
}
