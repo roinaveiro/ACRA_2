{
 "cells": [
  {
   "cell_type": "code",
   "execution_count": 27,
   "metadata": {},
   "outputs": [],
   "source": [
    "import numpy as np\n",
    "import os,sys,inspect\n",
    "from sklearn.linear_model import LogisticRegression\n",
    "currentdir = os.path.dirname(os.path.abspath(inspect.getfile(inspect.currentframe())))\n",
    "parentdir = os.path.dirname(currentdir)\n",
    "sys.path.insert(0,parentdir) \n",
    "from src.data import *\n",
    "from sklearn.model_selection import cross_val_score"
   ]
  },
  {
   "cell_type": "code",
   "execution_count": 28,
   "metadata": {},
   "outputs": [],
   "source": [
    "X, y = get_spam_data(\"../data/uciData.csv\")\n",
    "X_train, X_test, y_train, y_test = generate_train_test(X, y, q=0.3)"
   ]
  },
  {
   "cell_type": "code",
   "execution_count": 36,
   "metadata": {},
   "outputs": [
    {
     "name": "stdout",
     "output_type": "stream",
     "text": [
      "0.8780250166728427\n",
      "0.911849999805818\n",
      "0.9201171743690197\n",
      "0.9249257594168292\n",
      "0.925947338878607\n",
      "0.926633935434019\n",
      "0.9263210598663468\n"
     ]
    }
   ],
   "source": [
    "C_grid = np.array([0.01, 0.05, 0.1, 0.5, 1.0, 1.5, 2.0])\n",
    "for C in C_grid:\n",
    "    clf=LogisticRegression(penalty=\"l1\", C=C)\n",
    "    scores = cross_val_score(clf, X_train, y_train, cv=10, scoring='f1_macro')\n",
    "    print(scores.mean())"
   ]
  },
  {
   "cell_type": "code",
   "execution_count": null,
   "metadata": {
    "collapsed": true
   },
   "outputs": [],
   "source": []
  }
 ],
 "metadata": {
  "kernelspec": {
   "display_name": "Python 3",
   "language": "python",
   "name": "python3"
  },
  "language_info": {
   "codemirror_mode": {
    "name": "ipython",
    "version": 3
   },
   "file_extension": ".py",
   "mimetype": "text/x-python",
   "name": "python",
   "nbconvert_exporter": "python",
   "pygments_lexer": "ipython3",
   "version": "3.6.8"
  }
 },
 "nbformat": 4,
 "nbformat_minor": 2
}
