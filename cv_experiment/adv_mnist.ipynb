{
 "cells": [
  {
   "cell_type": "code",
   "execution_count": 4,
   "metadata": {},
   "outputs": [],
   "source": [
    "import torch\n",
    "import torch.nn as nn\n",
    "import torch.nn.functional as F\n",
    "import torch.optim as optim\n",
    "from torchvision import datasets, transforms\n",
    "import matplotlib.pyplot as plt"
   ]
  },
  {
   "cell_type": "markdown",
   "metadata": {},
   "source": [
    "### Parameters"
   ]
  },
  {
   "cell_type": "code",
   "execution_count": 5,
   "metadata": {
    "collapsed": true
   },
   "outputs": [],
   "source": [
    "# Set the random seed, so the experiment is reproducible\n",
    "seed = 0\n",
    "torch.manual_seed(seed)\n",
    "# For the moment, we will just train on CPU, so no cuda\n",
    "use_cuda = False\n",
    "device = torch.device(\"cuda\" if use_cuda else \"cpu\")\n",
    "# We use a batch size of 32 examples while training, and 1000 while testing\n",
    "batch_size = 32\n",
    "test_batch_size = 1000\n",
    "# We will use SGD with a momentum term\n",
    "momentum = 0.5\n",
    "# The learning rate\n",
    "lr = 0.01\n",
    "# The number of epochs\n",
    "epochs = 3\n",
    "# The size of the input. MNIST are greyscale images, 28x28 pixels each\n",
    "im_size = 28*28"
   ]
  },
  {
   "cell_type": "markdown",
   "metadata": {},
   "source": [
    "### Train"
   ]
  },
  {
   "cell_type": "code",
   "execution_count": 6,
   "metadata": {
    "collapsed": true
   },
   "outputs": [],
   "source": [
    "def train(model, device, train_loader, optimizer, epoch, train_losses):\n",
    "    model.train()\n",
    "    for batch_idx, (data, target) in enumerate(train_loader):\n",
    "        data, target = data.to(device), target.to(device)\n",
    "        optimizer.zero_grad()\n",
    "        output = model(data)\n",
    "        loss = F.nll_loss(output, target)\n",
    "        loss.backward()\n",
    "        optimizer.step()\n",
    "        if batch_idx % 100 == 0:\n",
    "            print('Train Epoch: {} [{}/{} ({:.0f}%)]\\tLoss: {:.6f}'.format(\n",
    "                epoch, batch_idx * len(data), len(train_loader.dataset),\n",
    "                100. * batch_idx / len(train_loader), loss.item()))\n",
    "            train_losses.append(loss.item())"
   ]
  },
  {
   "cell_type": "markdown",
   "metadata": {},
   "source": [
    "### Test"
   ]
  },
  {
   "cell_type": "code",
   "execution_count": 7,
   "metadata": {
    "collapsed": true
   },
   "outputs": [],
   "source": [
    "def test(model, device, test_loader):\n",
    "    model.eval()\n",
    "    test_loss = 0\n",
    "    correct = 0\n",
    "    with torch.no_grad():\n",
    "        for data, target in test_loader:\n",
    "            data, target = data.to(device), target.to(device)\n",
    "            output = model(data)\n",
    "            test_loss += F.nll_loss(output, target, reduction='sum').item() # sum up batch loss\n",
    "            pred = output.argmax(dim=1, keepdim=True) # get the index of the max log-probability\n",
    "            correct += pred.eq(target.view_as(pred)).sum().item()\n",
    "\n",
    "    test_loss /= len(test_loader.dataset)\n",
    "\n",
    "    print('\\nTest set: Average loss: {:.4f}, Accuracy: {}/{} ({:.0f}%)\\n'.format(\n",
    "        test_loss, correct, len(test_loader.dataset),\n",
    "        100. * correct / len(test_loader.dataset)))"
   ]
  },
  {
   "cell_type": "markdown",
   "metadata": {},
   "source": [
    "### Load train and test data"
   ]
  },
  {
   "cell_type": "code",
   "execution_count": 8,
   "metadata": {},
   "outputs": [
    {
     "name": "stderr",
     "output_type": "stream",
     "text": [
      "\r",
      "0it [00:00, ?it/s]"
     ]
    },
    {
     "name": "stdout",
     "output_type": "stream",
     "text": [
      "Downloading http://yann.lecun.com/exdb/mnist/train-images-idx3-ubyte.gz to ../data/MNIST/raw/train-images-idx3-ubyte.gz\n"
     ]
    },
    {
     "name": "stderr",
     "output_type": "stream",
     "text": [
      "100%|█████████▉| 9895936/9912422 [00:19<00:00, 423161.73it/s] "
     ]
    },
    {
     "name": "stdout",
     "output_type": "stream",
     "text": [
      "Extracting ../data/MNIST/raw/train-images-idx3-ubyte.gz to ../data/MNIST/raw\n"
     ]
    },
    {
     "name": "stderr",
     "output_type": "stream",
     "text": [
      "\n",
      "0it [00:00, ?it/s]\u001b[A"
     ]
    },
    {
     "name": "stdout",
     "output_type": "stream",
     "text": [
      "Downloading http://yann.lecun.com/exdb/mnist/train-labels-idx1-ubyte.gz to ../data/MNIST/raw/train-labels-idx1-ubyte.gz\n"
     ]
    },
    {
     "name": "stderr",
     "output_type": "stream",
     "text": [
      "\n",
      "  0%|          | 0/28881 [00:00<?, ?it/s]\u001b[A\n",
      " 57%|█████▋    | 16384/28881 [00:00<00:00, 69020.27it/s]\u001b[A\n",
      "\n",
      "0it [00:00, ?it/s]\u001b[A\u001b[A"
     ]
    },
    {
     "name": "stdout",
     "output_type": "stream",
     "text": [
      "Extracting ../data/MNIST/raw/train-labels-idx1-ubyte.gz to ../data/MNIST/raw\n",
      "Downloading http://yann.lecun.com/exdb/mnist/t10k-images-idx3-ubyte.gz to ../data/MNIST/raw/t10k-images-idx3-ubyte.gz\n"
     ]
    },
    {
     "name": "stderr",
     "output_type": "stream",
     "text": [
      "\n",
      "\n",
      "  0%|          | 0/1648877 [00:00<?, ?it/s]\u001b[A\u001b[A\n",
      "\n",
      "  0%|          | 8192/1648877 [00:01<01:18, 20933.71it/s]\u001b[A\u001b[A\n",
      "\n",
      "  1%|          | 16384/1648877 [00:01<01:08, 23800.02it/s]\u001b[A\u001b[A\n",
      "\n",
      "  2%|▏         | 32768/1648877 [00:01<00:53, 30458.66it/s]\u001b[A\u001b[A\n",
      "\n",
      "  4%|▍         | 73728/1648877 [00:02<00:38, 40891.55it/s]\u001b[A\u001b[A\n",
      "\n",
      "  7%|▋         | 114688/1648877 [00:02<00:28, 54004.14it/s]\u001b[A\u001b[A\n",
      "\n",
      "  9%|▉         | 155648/1648877 [00:02<00:21, 68927.91it/s]\u001b[A\u001b[A\n",
      "\n",
      " 12%|█▏        | 204800/1648877 [00:03<00:24, 59531.30it/s]\u001b[A\u001b[A\n",
      "\n",
      " 13%|█▎        | 221184/1648877 [00:03<00:28, 50091.89it/s]\u001b[A\u001b[A\n",
      "\n",
      " 16%|█▌        | 262144/1648877 [00:04<00:20, 67441.34it/s]\u001b[A\u001b[A\n",
      "\n",
      " 18%|█▊        | 303104/1648877 [00:04<00:15, 87082.81it/s]\u001b[A\u001b[A\n",
      "\n",
      " 20%|█▉        | 327680/1648877 [00:04<00:15, 87860.26it/s]\u001b[A\u001b[A\n",
      "\n",
      " 22%|██▏       | 360448/1648877 [00:04<00:14, 87019.33it/s]\u001b[A\u001b[A\n",
      "\n",
      " 23%|██▎       | 376832/1648877 [00:05<00:16, 76293.84it/s]\u001b[A\u001b[A\n",
      "\n",
      " 26%|██▌       | 425984/1648877 [00:05<00:12, 100019.01it/s]\u001b[A\u001b[A\n",
      "\n",
      " 29%|██▉       | 483328/1648877 [00:05<00:08, 130846.49it/s]\u001b[A\u001b[A\n",
      "\n",
      " 31%|███▏      | 516096/1648877 [00:05<00:07, 143602.89it/s]\u001b[A\u001b[A\n",
      "\n",
      " 35%|███▌      | 581632/1648877 [00:05<00:05, 183129.49it/s]\u001b[A\u001b[A\n",
      "\n",
      " 40%|███▉      | 655360/1648877 [00:05<00:04, 229880.81it/s]\u001b[A\u001b[A\n",
      "\n",
      " 43%|████▎     | 712704/1648877 [00:05<00:03, 278620.48it/s]\u001b[A\u001b[A\n",
      "\n",
      " 46%|████▌     | 761856/1648877 [00:06<00:02, 319355.12it/s]\u001b[A\u001b[A\n",
      "\n",
      " 50%|█████     | 827392/1648877 [00:06<00:02, 324691.48it/s]\u001b[A\u001b[A\n",
      "\n",
      " 55%|█████▌    | 909312/1648877 [00:06<00:03, 211352.60it/s]\u001b[A\u001b[A\n",
      "\n",
      " 64%|██████▍   | 1056768/1648877 [00:07<00:02, 278838.61it/s]\u001b[A\u001b[A\n",
      "\n",
      " 68%|██████▊   | 1114112/1648877 [00:07<00:01, 302449.98it/s]\u001b[A\u001b[A\n",
      "\n",
      " 71%|███████   | 1171456/1648877 [00:07<00:01, 329865.05it/s]\u001b[A\u001b[A\n",
      "\n",
      " 75%|███████▍  | 1228800/1648877 [00:07<00:01, 368153.49it/s]\u001b[A\u001b[A\n",
      "\n",
      " 78%|███████▊  | 1286144/1648877 [00:07<00:00, 404840.61it/s]\u001b[A\u001b[A\n",
      "\n",
      " 82%|████████▏ | 1359872/1648877 [00:07<00:00, 444860.64it/s]\u001b[A\u001b[A\n",
      "\n",
      " 86%|████████▌ | 1417216/1648877 [00:07<00:00, 466687.01it/s]\u001b[A\u001b[A\n",
      "\n",
      " 89%|████████▉ | 1474560/1648877 [00:07<00:00, 440612.98it/s]\u001b[A\u001b[A\n",
      "\n",
      " 93%|█████████▎| 1531904/1648877 [00:08<00:00, 461997.24it/s]\u001b[A\u001b[A\n",
      "\n",
      "1654784it [00:08, 198206.80it/s]                             \u001b[A\u001b[A\n",
      "\n",
      "\n",
      "0it [00:00, ?it/s]\u001b[A\u001b[A"
     ]
    },
    {
     "name": "stdout",
     "output_type": "stream",
     "text": [
      "Extracting ../data/MNIST/raw/t10k-images-idx3-ubyte.gz to ../data/MNIST/raw\n",
      "Downloading http://yann.lecun.com/exdb/mnist/t10k-labels-idx1-ubyte.gz to ../data/MNIST/raw/t10k-labels-idx1-ubyte.gz\n"
     ]
    },
    {
     "name": "stderr",
     "output_type": "stream",
     "text": [
      "\n",
      "\n",
      "8192it [00:00, 26285.39it/s]            \u001b[A\u001b[A"
     ]
    },
    {
     "name": "stdout",
     "output_type": "stream",
     "text": [
      "Extracting ../data/MNIST/raw/t10k-labels-idx1-ubyte.gz to ../data/MNIST/raw\n",
      "Processing...\n",
      "Done!\n"
     ]
    },
    {
     "name": "stderr",
     "output_type": "stream",
     "text": [
      "\n",
      "9920512it [00:29, 423161.73it/s]                             \n",
      "32768it [00:20, 69020.27it/s]                           \u001b[A"
     ]
    }
   ],
   "source": [
    "train_loader = torch.utils.data.DataLoader(\n",
    "    datasets.MNIST('../data', train=True, download=True,\n",
    "                   transform=transforms.Compose([\n",
    "                       transforms.ToTensor(),\n",
    "                       transforms.Normalize((0.1307,), (0.3081,))\n",
    "                   ])),\n",
    "    batch_size=batch_size, shuffle=True)\n",
    "\n",
    "test_loader = torch.utils.data.DataLoader(\n",
    "    datasets.MNIST('../data', train=False, transform=transforms.Compose([\n",
    "                       transforms.ToTensor(),\n",
    "                       transforms.Normalize((0.1307,), (0.3081,))\n",
    "                   ])),\n",
    "    batch_size=test_batch_size, shuffle=True)"
   ]
  },
  {
   "cell_type": "code",
   "execution_count": 9,
   "metadata": {},
   "outputs": [
    {
     "data": {
      "text/plain": [
       "torch.Size([1000, 1, 28, 28])"
      ]
     },
     "execution_count": 9,
     "metadata": {},
     "output_type": "execute_result"
    }
   ],
   "source": [
    "examples = enumerate(test_loader)\n",
    "batch_idx, (example, label) = next(examples)\n",
    "example.shape"
   ]
  },
  {
   "cell_type": "code",
   "execution_count": 10,
   "metadata": {},
   "outputs": [
    {
     "data": {
      "image/png": "[encoded data removed]",
      "text/plain": [
       "<Figure size 432x288 with 8 Axes>"
      ]
     },
     "execution_count": 10,
     "metadata": {},
     "output_type": "execute_result"
    }
   ],
   "source": [
    "fig = plt.figure()\n",
    "for i in range(8):\n",
    "  plt.subplot(2,4,i+1)\n",
    "  plt.imshow(example[i][0], cmap='gray', interpolation='none')\n",
    "  plt.title(\"Label: {}\".format(label[i]))\n",
    "  plt.xticks([])\n",
    "  plt.yticks([])\n",
    "fig"
   ]
  },
  {
   "cell_type": "markdown",
   "metadata": {
    "collapsed": true
   },
   "source": [
    "### Multilayer Perceptron"
   ]
  },
  {
   "cell_type": "code",
   "execution_count": 11,
   "metadata": {
    "collapsed": true
   },
   "outputs": [],
   "source": [
    "class MLP(nn.Module):\n",
    "    def __init__(self):\n",
    "        super(MLP, self).__init__()\n",
    "        self.fc1 = nn.Linear(28*28, 50)\n",
    "        self.fc2 = nn.Linear(50, 10)\n",
    "\n",
    "    def forward(self, x):\n",
    "        x = x.view(-1, 28*28)\n",
    "        x = F.relu(self.fc1(x))\n",
    "        x = self.fc2(x)\n",
    "        return F.log_softmax(x)"
   ]
  },
  {
   "cell_type": "code",
   "execution_count": 12,
   "metadata": {
    "collapsed": true
   },
   "outputs": [],
   "source": [
    "learning_rate = 0.01\n",
    "momentum = 0.5\n",
    "model = MLP().to(device)\n",
    "optimizer = optim.SGD(model.parameters(), lr=learning_rate,\n",
    "                      momentum=momentum)"
   ]
  },
  {
   "cell_type": "code",
   "execution_count": 14,
   "metadata": {},
   "outputs": [
    {
     "name": "stdout",
     "output_type": "stream",
     "text": [
      "Train Epoch: 1 [0/60000 (0%)]\tLoss: 0.198369\n"
     ]
    },
    {
     "name": "stderr",
     "output_type": "stream",
     "text": [
      "/home/roi/anaconda3/lib/python3.6/site-packages/ipykernel_launcher.py:11: UserWarning: Implicit dimension choice for log_softmax has been deprecated. Change the call to include dim=X as an argument.\n",
      "  # This is added back by InteractiveShellApp.init_path()\n"
     ]
    },
    {
     "name": "stdout",
     "output_type": "stream",
     "text": [
      "Train Epoch: 1 [3200/60000 (5%)]\tLoss: 0.155087\n",
      "Train Epoch: 1 [6400/60000 (11%)]\tLoss: 0.131146\n",
      "Train Epoch: 1 [9600/60000 (16%)]\tLoss: 0.073608\n",
      "Train Epoch: 1 [12800/60000 (21%)]\tLoss: 0.029857\n",
      "Train Epoch: 1 [16000/60000 (27%)]\tLoss: 0.185125\n",
      "Train Epoch: 1 [19200/60000 (32%)]\tLoss: 0.241926\n",
      "Train Epoch: 1 [22400/60000 (37%)]\tLoss: 0.106881\n",
      "Train Epoch: 1 [25600/60000 (43%)]\tLoss: 0.092932\n",
      "Train Epoch: 1 [28800/60000 (48%)]\tLoss: 0.193102\n",
      "Train Epoch: 1 [32000/60000 (53%)]\tLoss: 0.114658\n",
      "Train Epoch: 1 [35200/60000 (59%)]\tLoss: 0.244189\n",
      "Train Epoch: 1 [38400/60000 (64%)]\tLoss: 0.172704\n",
      "Train Epoch: 1 [41600/60000 (69%)]\tLoss: 0.329610\n",
      "Train Epoch: 1 [44800/60000 (75%)]\tLoss: 0.275037\n",
      "Train Epoch: 1 [48000/60000 (80%)]\tLoss: 0.290272\n",
      "Train Epoch: 1 [51200/60000 (85%)]\tLoss: 0.215232\n",
      "Train Epoch: 1 [54400/60000 (91%)]\tLoss: 0.122801\n",
      "Train Epoch: 1 [57600/60000 (96%)]\tLoss: 0.076389\n",
      "\n",
      "Test set: Average loss: 0.1198, Accuracy: 9648/10000 (96%)\n",
      "\n",
      "Train Epoch: 2 [0/60000 (0%)]\tLoss: 0.098149\n",
      "Train Epoch: 2 [3200/60000 (5%)]\tLoss: 0.248148\n",
      "Train Epoch: 2 [6400/60000 (11%)]\tLoss: 0.060891\n",
      "Train Epoch: 2 [9600/60000 (16%)]\tLoss: 0.176344\n",
      "Train Epoch: 2 [12800/60000 (21%)]\tLoss: 0.027461\n",
      "Train Epoch: 2 [16000/60000 (27%)]\tLoss: 0.073619\n",
      "Train Epoch: 2 [19200/60000 (32%)]\tLoss: 0.029013\n",
      "Train Epoch: 2 [22400/60000 (37%)]\tLoss: 0.062051\n",
      "Train Epoch: 2 [25600/60000 (43%)]\tLoss: 0.187532\n",
      "Train Epoch: 2 [28800/60000 (48%)]\tLoss: 0.127641\n",
      "Train Epoch: 2 [32000/60000 (53%)]\tLoss: 0.043857\n",
      "Train Epoch: 2 [35200/60000 (59%)]\tLoss: 0.217135\n",
      "Train Epoch: 2 [38400/60000 (64%)]\tLoss: 0.217773\n",
      "Train Epoch: 2 [41600/60000 (69%)]\tLoss: 0.162997\n",
      "Train Epoch: 2 [44800/60000 (75%)]\tLoss: 0.156015\n",
      "Train Epoch: 2 [48000/60000 (80%)]\tLoss: 0.041070\n",
      "Train Epoch: 2 [51200/60000 (85%)]\tLoss: 0.064530\n",
      "Train Epoch: 2 [54400/60000 (91%)]\tLoss: 0.127780\n",
      "Train Epoch: 2 [57600/60000 (96%)]\tLoss: 0.059724\n",
      "\n",
      "Test set: Average loss: 0.1124, Accuracy: 9663/10000 (97%)\n",
      "\n",
      "Train Epoch: 3 [0/60000 (0%)]\tLoss: 0.053829\n",
      "Train Epoch: 3 [3200/60000 (5%)]\tLoss: 0.168619\n",
      "Train Epoch: 3 [6400/60000 (11%)]\tLoss: 0.082475\n",
      "Train Epoch: 3 [9600/60000 (16%)]\tLoss: 0.019769\n",
      "Train Epoch: 3 [12800/60000 (21%)]\tLoss: 0.151956\n",
      "Train Epoch: 3 [16000/60000 (27%)]\tLoss: 0.041617\n",
      "Train Epoch: 3 [19200/60000 (32%)]\tLoss: 0.145623\n",
      "Train Epoch: 3 [22400/60000 (37%)]\tLoss: 0.353926\n",
      "Train Epoch: 3 [25600/60000 (43%)]\tLoss: 0.041855\n",
      "Train Epoch: 3 [28800/60000 (48%)]\tLoss: 0.193399\n",
      "Train Epoch: 3 [32000/60000 (53%)]\tLoss: 0.036656\n",
      "Train Epoch: 3 [35200/60000 (59%)]\tLoss: 0.050950\n",
      "Train Epoch: 3 [38400/60000 (64%)]\tLoss: 0.097500\n",
      "Train Epoch: 3 [41600/60000 (69%)]\tLoss: 0.130437\n",
      "Train Epoch: 3 [44800/60000 (75%)]\tLoss: 0.231027\n",
      "Train Epoch: 3 [48000/60000 (80%)]\tLoss: 0.028303\n",
      "Train Epoch: 3 [51200/60000 (85%)]\tLoss: 0.057398\n",
      "Train Epoch: 3 [54400/60000 (91%)]\tLoss: 0.086400\n",
      "Train Epoch: 3 [57600/60000 (96%)]\tLoss: 0.271931\n",
      "\n",
      "Test set: Average loss: 0.1048, Accuracy: 9693/10000 (97%)\n",
      "\n"
     ]
    }
   ],
   "source": [
    "training_losses = []\n",
    "for epoch in range(1, epochs + 1):\n",
    "    train(model, device, train_loader, optimizer, epoch, training_losses)\n",
    "    test(model, device, test_loader)"
   ]
  }
 ],
 "metadata": {
  "kernelspec": {
   "display_name": "Python 3",
   "language": "python",
   "name": "python3"
  },
  "language_info": {
   "codemirror_mode": {
    "name": "ipython",
    "version": 3
   },
   "file_extension": ".py",
   "mimetype": "text/x-python",
   "name": "python",
   "nbconvert_exporter": "python",
   "pygments_lexer": "ipython3",
   "version": "3.6.8"
  }
 },
 "nbformat": 4,
 "nbformat_minor": 2
}
